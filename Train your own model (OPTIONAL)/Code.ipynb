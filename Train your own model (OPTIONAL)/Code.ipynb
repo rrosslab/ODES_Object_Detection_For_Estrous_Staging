{
 "cells": [
  {
   "cell_type": "code",
   "execution_count": null,
   "id": "676ab72f",
   "metadata": {},
   "outputs": [],
   "source": [
    "# Train the model\n",
    "!pip install ultralytics\n",
    "import os\n",
    "from ultralytics import YOLO\n",
    "\n",
    "model = YOLO(\"yolov8s.pt\")\n",
    "# replace with your yaml file\n",
    "results = model.train(data=\".yaml\", epochs=62, hsv_h=0.02, hsv_s=0.2, hsv_v=0.4, flipud=0.5, fliplr=0.5, degrees=0.25, scale=0.3, translate=0.1, mosaic=0.5)"
   ]
  },
  {
   "cell_type": "code",
   "execution_count": null,
   "id": "e72bfed2",
   "metadata": {},
   "outputs": [],
   "source": [
    "# Train the Model option 2\n",
    "!pip install ultralytics\n",
    "import os\n",
    "from ultralytics import YOLO\n",
    "\n",
    "model = YOLO(\"yolov8m.pt\")\n",
    "# replace with your yaml file\n",
    "results = model.train(data=\"/content/customdata1.yaml\", epochs=80, imgsz=640, max_det=1000, batch=16, patience=20)"
   ]
  }
 ],
 "metadata": {},
 "nbformat": 4,
 "nbformat_minor": 5
}

